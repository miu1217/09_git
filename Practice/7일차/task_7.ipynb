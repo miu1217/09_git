{
 "cells": [
  {
   "cell_type": "markdown",
   "metadata": {},
   "source": [
    "함수 실행 시간을 측정하는 데코레이터 timer_decorator를 작성하세요. \n",
    "\n",
    "임의의 함수가 실행되는 시간을 측정하여 \"함수 실행 시간: x.xx초\" 형태로 출력하세요."
   ]
  },
  {
   "cell_type": "code",
   "execution_count": 4,
   "metadata": {},
   "outputs": [
    {
     "name": "stdout",
     "output_type": "stream",
     "text": [
      "함수 실행!\n",
      "함수 실행 시간: 3.0994415283203125e-05초\n"
     ]
    }
   ],
   "source": [
    "import time\n",
    "\n",
    "#함수 실행시간 측정하는 데코레이터 함수 여기서 function은 timer\n",
    "def timer_decorator(function) :\n",
    "\n",
    "    #wrapper가 없으면 데코레이터 내부에서 함수 실행 후 끝남 무조건 wrapper로 실행해야하는 함수를 한번 더 감싸줘야함\n",
    "    def wrapper() :\n",
    "        start = time.time()\n",
    "        function()\n",
    "        end = time.time()\n",
    "\n",
    "        result = end - start\n",
    "        print(f\"함수 실행 시간: {result}초\")\n",
    "    return wrapper\n",
    "\n",
    "\n",
    "#데코레이터를 달면 밑에 함수를 실행할 때 위에 함수도 같이 실행하게 된다.\n",
    "#timer = timer_decorator(timer) 가 데코레이터로 퉁쳐지는 거임\n",
    "@timer_decorator\n",
    "def timer():\n",
    "    print(\"함수 실행!\")\n",
    "\n",
    "\n",
    "timer()"
   ]
  },
  {
   "cell_type": "markdown",
   "metadata": {},
   "source": []
  }
 ],
 "metadata": {
  "kernelspec": {
   "display_name": "Python 3",
   "language": "python",
   "name": "python3"
  },
  "language_info": {
   "codemirror_mode": {
    "name": "ipython",
    "version": 3
   },
   "file_extension": ".py",
   "mimetype": "text/x-python",
   "name": "python",
   "nbconvert_exporter": "python",
   "pygments_lexer": "ipython3",
   "version": "3.9.6"
  }
 },
 "nbformat": 4,
 "nbformat_minor": 2
}
