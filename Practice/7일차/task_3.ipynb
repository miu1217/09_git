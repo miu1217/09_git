{
 "cells": [
  {
   "cell_type": "markdown",
   "metadata": {},
   "source": [
    "사용자로부터 여러 개의 숫자를 입력받아 리스트에 저장한 후, 사용자가 'done'이라고 입력할 때까지 계속 입력받으세요. \n",
    "\n",
    "- 입력 중 숫자가 아닌 값이 입력되면 ValueError를 처리\n",
    "- 숫자 외 값이 입력된 경우 어떤 값이 잘못 입력되었는지 사용자에게 알려주는 문구 출력<br>\n",
    "  (예: f\"잘못된 값: {변수}. 숫자를 입력해주세요.\")\n",
    "\n"
   ]
  },
  {
   "cell_type": "code",
   "execution_count": 3,
   "metadata": {},
   "outputs": [
    {
     "name": "stdout",
     "output_type": "stream",
     "text": [
      "종료합니다.\n"
     ]
    }
   ],
   "source": [
    "#리스트 선언해두기\n",
    "numList = []\n",
    "\n",
    "#None으로 num을 선언해서 except 구문에서 사용할 수 있게 해두기\n",
    "num = None\n",
    "\n",
    "#프로그램이 실행해야하는 부분 반복하기\n",
    "while True :\n",
    "    try :\n",
    "            #사용자에게 숫자 입력받기\n",
    "            num = input(\"숫자를 입력해주세요. 종료하고 싶으면 done을 입력해주세요.\")\n",
    "\n",
    "            #입력받은 내용이 done이면 종료하기\n",
    "            if (num == 'done')  :\n",
    "                    print('종료합니다.')\n",
    "                    break\n",
    "            \n",
    "            #num을 정수로 형변환 이걸 하지 않으면 ValueError 예외에 걸리지 않음\n",
    "            #위에 num 같은 경우엔 숫자,문자열 다 받을 수 있는데 밑에처럼 처리를 하면 int만 num에 들어갈 수 있기 때문에 형변환으로 걸러주기\n",
    "            #미리 받으면서 int로 형변환을 하지 않은 이유는 done일때 종료 되어야하기 때문에 done이 아닌데 문자열이면 에러뜨게 만드는거임\n",
    "            num = int(num)\n",
    "\n",
    "            #numList에 숫자추가\n",
    "            numList.append(num)\n",
    "\n",
    "            #리스트에 들어가는지 출력해서 확인하기\n",
    "            print(numList)\n",
    "\n",
    "    except ValueError :\n",
    "            \n",
    "            #예외처리 문구\n",
    "            print(f\"잘못된 값 : '{num}'. 숫자를 입력해주세요.\")\n"
   ]
  }
 ],
 "metadata": {
  "kernelspec": {
   "display_name": "Python 3",
   "language": "python",
   "name": "python3"
  },
  "language_info": {
   "codemirror_mode": {
    "name": "ipython",
    "version": 3
   },
   "file_extension": ".py",
   "mimetype": "text/x-python",
   "name": "python",
   "nbconvert_exporter": "python",
   "pygments_lexer": "ipython3",
   "version": "3.9.6"
  }
 },
 "nbformat": 4,
 "nbformat_minor": 2
}
