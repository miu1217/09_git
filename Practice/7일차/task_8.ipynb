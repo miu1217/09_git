{
 "cells": [
  {
   "cell_type": "markdown",
   "metadata": {},
   "source": [
    "여러분이 자주 사용하는 수학적 연산<br>\n",
    "(예: 삼각형 넓이, 원의 넓이, 직육면체의 넓이)을 수행하는 함수들을 포함하는 mymath.py라는 이름의 모듈을 만드세요. \n",
    "\n",
    "이 모듈을 사용하여 작성된 함수들을 실제로 임포트하고 사용하는 간단한 프로그램을 작성하세요."
   ]
  },
  {
   "cell_type": "code",
   "execution_count": null,
   "metadata": {},
   "outputs": [
    {
     "name": "stdout",
     "output_type": "stream",
     "text": [
      "2\n",
      "1.0\n",
      "3.14\n"
     ]
    }
   ],
   "source": [
    "#내가 만든 모듈 import\n",
    "import mymath\n",
    "\n",
    "\n",
    "a = int(input(\"숫자를 입력해주세요\"))\n",
    "b = int(input(\"숫자를 입력해주세요\"))\n",
    "\n",
    "print(mymath.get_rectangle(a,b))\n",
    "print(mymath.get_triangle(a,b))\n",
    "print(mymath.get_circle(a))\n",
    "\n"
   ]
  },
  {
   "cell_type": "code",
   "execution_count": 3,
   "metadata": {},
   "outputs": [],
   "source": [
    "#mymath.py의 코드\n",
    "\n",
    "\n",
    "#삼각형 넓이 구하는 함수\n",
    "def get_triangle(a, b) :\n",
    "\n",
    "    return  (a * b) * 0.5\n",
    "\n",
    "#직사각형 넓이 구하는 함수\n",
    "def get_rectangle(a,b) :\n",
    "\n",
    "    return  a * b\n",
    "\n",
    "#원의 넓이 구하는 함수\n",
    "def get_circle(a) :\n",
    "    return a * a * 3.14\n"
   ]
  }
 ],
 "metadata": {
  "kernelspec": {
   "display_name": "Python 3",
   "language": "python",
   "name": "python3"
  },
  "language_info": {
   "codemirror_mode": {
    "name": "ipython",
    "version": 3
   },
   "file_extension": ".py",
   "mimetype": "text/x-python",
   "name": "python",
   "nbconvert_exporter": "python",
   "pygments_lexer": "ipython3",
   "version": "3.9.6"
  }
 },
 "nbformat": 4,
 "nbformat_minor": 2
}
