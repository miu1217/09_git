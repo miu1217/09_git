{
 "cells": [
  {
   "cell_type": "markdown",
   "metadata": {},
   "source": [
    "문자열 리스트를 받아, 각 문자열의 길이를 출력하는 함수 print_lengths를 작성하세요."
   ]
  },
  {
   "cell_type": "code",
   "execution_count": null,
   "metadata": {},
   "outputs": [],
   "source": [
    "def print_lengths(strings):\n",
    "    for str in strings :\n",
    "        lengths = len(str)\n",
    "\n",
    "        print(lengths)\n",
    "\n",
    "a = ['1','123','1231']\n",
    "print_lengths(a)"
   ]
  }
 ],
 "metadata": {
  "language_info": {
   "name": "python"
  }
 },
 "nbformat": 4,
 "nbformat_minor": 2
}
