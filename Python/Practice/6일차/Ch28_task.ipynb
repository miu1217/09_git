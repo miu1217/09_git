{
 "cells": [
  {
   "cell_type": "markdown",
   "metadata": {},
   "source": [
    "사용자로부터 3개의 숫자를 입력받아, 이를 튜플로 만든 후 최소값과 최대값을 출력하는 함수 min_max를 작성하세요."
   ]
  },
  {
   "cell_type": "code",
   "execution_count": 5,
   "metadata": {},
   "outputs": [
    {
     "name": "stdout",
     "output_type": "stream",
     "text": [
      "최소값 : 1이고 최대값 : 22이다.\n"
     ]
    }
   ],
   "source": [
    "def min_max(nums) :\n",
    "\n",
    "        min_values = min(nums)\n",
    "        max_values = max(nums)\n",
    "        print(f\"최소값은 {min_values}이고 최대값은 {max_values}이다.\")\n",
    "\n",
    "num1 = input(\"숫자를 입력해주세요.\")\n",
    "num2 = input(\"숫자를 입력해주세요.\")\n",
    "num3 = input(\"숫자를 입력해주세요.\")\n",
    "\n",
    "nums = (num1, num2, num3)\n",
    "\n",
    "min_max(nums)\n",
    "\n"
   ]
  },
  {
   "cell_type": "markdown",
   "metadata": {},
   "source": []
  }
 ],
 "metadata": {
  "kernelspec": {
   "display_name": "Python 3",
   "language": "python",
   "name": "python3"
  },
  "language_info": {
   "codemirror_mode": {
    "name": "ipython",
    "version": 3
   },
   "file_extension": ".py",
   "mimetype": "text/x-python",
   "name": "python",
   "nbconvert_exporter": "python",
   "pygments_lexer": "ipython3",
   "version": "3.9.6"
  }
 },
 "nbformat": 4,
 "nbformat_minor": 2
}
