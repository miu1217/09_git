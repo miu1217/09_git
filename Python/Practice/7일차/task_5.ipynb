{
 "cells": [
  {
   "cell_type": "markdown",
   "metadata": {},
   "source": [
    "datetime 모듈을 사용하여 현재 날짜와 시간을 출력하는 프로그램을 작성하세요. \n",
    "\n",
    "또한, 사용자로부터 태어난 년도를 입력받아 현재 나이를 계산하여 출력하세요."
   ]
  },
  {
   "cell_type": "code",
   "execution_count": 22,
   "metadata": {},
   "outputs": [
    {
     "name": "stdout",
     "output_type": "stream",
     "text": [
      "현재 나이는 26\n"
     ]
    }
   ],
   "source": [
    "#datetime 모듈 사용하기 위해 import로 모듈 불러오기\n",
    "import datetime\n",
    "\n",
    "#datetime 모듈로 현재 날짜와 시간 구하기\n",
    "today = datetime.datetime.now()\n",
    "\n",
    "#구한 날짜에서 년도만 빼오기\n",
    "nowYear = today.year\n",
    "\n",
    "#사용자의 나이 입력받기\n",
    "userYear = int(input(\"태어난 년도를 입력해주세요.\"))\n",
    "\n",
    "#현재 년도 - 태어난 년도로 나이 계산하기\n",
    "age = nowYear - userYear\n",
    "\n",
    "print(f\"현재 나이는 {age}살 입니다.\")\n"
   ]
  }
 ],
 "metadata": {
  "kernelspec": {
   "display_name": "Python 3",
   "language": "python",
   "name": "python3"
  },
  "language_info": {
   "codemirror_mode": {
    "name": "ipython",
    "version": 3
   },
   "file_extension": ".py",
   "mimetype": "text/x-python",
   "name": "python",
   "nbconvert_exporter": "python",
   "pygments_lexer": "ipython3",
   "version": "3.9.6"
  }
 },
 "nbformat": 4,
 "nbformat_minor": 2
}
