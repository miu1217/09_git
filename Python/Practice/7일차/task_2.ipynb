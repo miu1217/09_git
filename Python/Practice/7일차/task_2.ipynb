{
 "cells": [
  {
   "cell_type": "markdown",
   "metadata": {},
   "source": [
    "파일을 읽어서 내용을 출력하는 프로그램을 작성하세요. \n",
    "\n",
    "- 파일이 존재하지 않을 때 발생하는 FileNotFoundError를 처리\n",
    "- 파일이 존재하지 않을 경우 \"파일을 찾을 수 없습니다.\"라는 메시지를 출력"
   ]
  },
  {
   "cell_type": "code",
   "execution_count": 13,
   "metadata": {},
   "outputs": [
    {
     "name": "stdout",
     "output_type": "stream",
     "text": [
      "개발자 여러분개발자 여러분개발자 여러분개발자 여러분개발자 여러분\n",
      "\n",
      "안녕하세요\n",
      "\n"
     ]
    }
   ],
   "source": [
    "try :\n",
    "    #파일 읽는 코드\n",
    "    f = open('test.txt', 'r')\n",
    "\n",
    "    while True :\n",
    "        #파일 내에 있는 코드를 한줄 씩 읽는 코드\n",
    "        line = f.readline()\n",
    "\n",
    "        #만약 문장이 더 없다면 끝내기\n",
    "        if not line : break\n",
    "\n",
    "        #문장 출력\n",
    "        print(line)\n",
    "\n",
    "\n",
    "    f.close()\n",
    "\n",
    "\n",
    "except FileNotFoundError:\n",
    "    #파일이 존재하지 않는 경우 에러 메세지 출력\n",
    "    print(\"파일을 찾을 수 없습니다.\")"
   ]
  },
  {
   "cell_type": "code",
   "execution_count": null,
   "metadata": {},
   "outputs": [],
   "source": []
  }
 ],
 "metadata": {
  "kernelspec": {
   "display_name": "Python 3",
   "language": "python",
   "name": "python3"
  },
  "language_info": {
   "codemirror_mode": {
    "name": "ipython",
    "version": 3
   },
   "file_extension": ".py",
   "mimetype": "text/x-python",
   "name": "python",
   "nbconvert_exporter": "python",
   "pygments_lexer": "ipython3",
   "version": "3.9.6"
  }
 },
 "nbformat": 4,
 "nbformat_minor": 2
}
