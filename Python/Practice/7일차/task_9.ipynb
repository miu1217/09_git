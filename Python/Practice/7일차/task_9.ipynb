{
 "cells": [
  {
   "cell_type": "markdown",
   "metadata": {},
   "source": [
    "animals라는 패키지를 만들고, 이 패키지 내에 mammals, birds라는 두 개의 서브 모듈을 생성하세요. \n",
    "\n",
    "- 각 모듈에는 최소한 한 개 이상의 동물에 관한 클래스를 정의하세요<br>\n",
    "  (예: mammals에는 Dog, birds에는 Eagle)\n",
    "- 이 패키지와 모듈을 사용하여 동물들의 정보를 출력하는 프로그램을 작성\n",
    "\n",
    "폴더 및 파일 구조\n",
    "```\n",
    "animals/(폴더)\n",
    "├── __init__.py\n",
    "├── mammals.py\n",
    "└── birds.py\n",
    "```\n"
   ]
  },
  {
   "cell_type": "code",
   "execution_count": 17,
   "metadata": {},
   "outputs": [
    {
     "name": "stdout",
     "output_type": "stream",
     "text": [
      "비둘기\n",
      "참새\n",
      "강아지\n",
      "원숭이\n"
     ]
    }
   ],
   "source": [
    "import animals.modules.birds as birds\n",
    "import animals.modules.mammals as mammals\n",
    "\n",
    "\n",
    "# birds 파일에서 클래스의 객체 생성\n",
    "pigeon_instance = birds.pigeon()\n",
    "sparrow_instance = birds.sparrow()\n",
    "\n",
    "# mammals 파일에서 클래스의 객체 생성\n",
    "dog_instance = mammals.dog()\n",
    "monkey_instance = mammals.monkey()\n",
    "\n",
    "# 메서드 호출\n",
    "pigeon_instance.pigeon()\n",
    "sparrow_instance.sparrow()\n",
    "\n",
    "dog_instance.dog()\n",
    "monkey_instance.monkey()\n"
   ]
  },
  {
   "cell_type": "markdown",
   "metadata": {},
   "source": []
  }
 ],
 "metadata": {
  "kernelspec": {
   "display_name": "Python 3",
   "language": "python",
   "name": "python3"
  },
  "language_info": {
   "codemirror_mode": {
    "name": "ipython",
    "version": 3
   },
   "file_extension": ".py",
   "mimetype": "text/x-python",
   "name": "python",
   "nbconvert_exporter": "python",
   "pygments_lexer": "ipython3",
   "version": "3.9.6"
  }
 },
 "nbformat": 4,
 "nbformat_minor": 2
}
