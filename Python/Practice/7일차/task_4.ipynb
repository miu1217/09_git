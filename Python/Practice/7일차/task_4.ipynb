{
 "cells": [
  {
   "cell_type": "markdown",
   "metadata": {},
   "source": [
    "사용자 정의 예외 NegativeNumberError를 생성하고, 사용자로부터 숫자를 입력받아 음수일 경우 NegativeNumberError를 발생시키는 프로그램을 작성하세요. \n",
    "\n",
    "- 예외 처리 구문을 사용하여 음수 입력 시 \"양수를 입력해주세요.\"라는 메시지를 출력"
   ]
  },
  {
   "cell_type": "code",
   "execution_count": 23,
   "metadata": {},
   "outputs": [
    {
     "name": "stdout",
     "output_type": "stream",
     "text": [
      "양수를 입력해주세요.\n"
     ]
    }
   ],
   "source": [
    "#NegativeNumberError 예외 만드는 곳\n",
    "class NegativeNumberError(Exception) :\n",
    "\n",
    "    #예외가 터지면 그때 초기화하고 초기화 할때 문장 나오게 하기\n",
    "    def __init__(self, num):\n",
    "        self.num = num\n",
    "        super().__init__(\"양수를 입력해주세요.\")\n",
    "\n",
    "#음수 확인하는 함수\n",
    "def check_negative(num) :\n",
    "\n",
    "    #num이 0이면 NegativeNumberError 클래스 작동하게 하기\n",
    "    if num < 0 :\n",
    "        #raise로 사용자 지정 에러 나오게 하기\n",
    "        raise NegativeNumberError(num)\n",
    "    else : \n",
    "        return num\n",
    "\n",
    "#실행문\n",
    "try :\n",
    "\n",
    "    #숫자 입력받기\n",
    "    num = input(\"숫자를 입력해주세요\")\n",
    "    num = int(num)\n",
    "\n",
    "    #음수인지 확인하기\n",
    "    result = check_negative(num)\n",
    "\n",
    "except NegativeNumberError as e:\n",
    "      print(e)\n"
   ]
  }
 ],
 "metadata": {
  "kernelspec": {
   "display_name": "Python 3",
   "language": "python",
   "name": "python3"
  },
  "language_info": {
   "codemirror_mode": {
    "name": "ipython",
    "version": 3
   },
   "file_extension": ".py",
   "mimetype": "text/x-python",
   "name": "python",
   "nbconvert_exporter": "python",
   "pygments_lexer": "ipython3",
   "version": "3.9.6"
  }
 },
 "nbformat": 4,
 "nbformat_minor": 2
}
