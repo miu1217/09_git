{
 "cells": [
  {
   "cell_type": "markdown",
   "metadata": {},
   "source": [
    "[문제] \n",
    "\n",
    "'Employee' 클래스를 선언하세요. \n",
    "\n",
    "이 클래스는 월급인상률을 의미하는 클래스 변수로 'raise_amount'를 갖고 있으며, 기본값은 1.04입니다. 다음 급여는 기본 급여에 월급인상률을 곱한 값으로 결정합니다.\n",
    "\n",
    "또한, 각 직원의 이름(name)과 급여(salary)를 속성으로 가지며, 'apply_raise' 메소드를 통해 급여에 'raise_amount'를 적용할 수 있어야 합니다.\n",
    "\n",
    "'Employee' 클래스의 객체 두 개를 생성하고, 한 객체에만 'raise_amount'를 변경한 후, 두 객체의 급여를 증가시켜보세요.<br>\n",
    "그리고 각 객체의 새로운 급여를 출력하세요."
   ]
  },
  {
   "cell_type": "code",
   "execution_count": 11,
   "metadata": {},
   "outputs": [
    {
     "name": "stdout",
     "output_type": "stream",
     "text": [
      "이름은 이현경 이고 급여는 208.0 입니다.\n",
      "이름은 오즈 이고 급여는 300 입니다.\n"
     ]
    }
   ],
   "source": [
    "class Employee :\n",
    "\n",
    "\n",
    "    #클래스 변수\n",
    "    raise_amount = 1.04\n",
    "\n",
    "\n",
    "    def __init__(self, name, salary, allow):\n",
    "        self.name = name\n",
    "        self.salary = salary\n",
    "        self.allow = allow\n",
    "    \n",
    "    #메소드 생성\n",
    "    def apply_raise(self) :\n",
    "        \n",
    "        if self.allow :\n",
    "            apply_salary = self.salary * Employee.raise_amount\n",
    "            return print(f\"이름은 {self.name} 이고 급여는 {apply_salary} 입니다.\")\n",
    "        else : return print(f\"이름은 {self.name} 이고 급여는 {self.salary} 입니다.\")\n",
    "\n",
    "#Employee 객체 생성\n",
    "employee1 = Employee(\"이현경\", 200, True)\n",
    "employee2 = Employee(\"오즈\", 300, False)\n",
    "\n",
    "employee1.apply_raise()\n",
    "employee2.apply_raise()"
   ]
  }
 ],
 "metadata": {
  "kernelspec": {
   "display_name": "Python 3",
   "language": "python",
   "name": "python3"
  },
  "language_info": {
   "codemirror_mode": {
    "name": "ipython",
    "version": 3
   },
   "file_extension": ".py",
   "mimetype": "text/x-python",
   "name": "python",
   "nbconvert_exporter": "python",
   "pygments_lexer": "ipython3",
   "version": "3.9.6"
  }
 },
 "nbformat": 4,
 "nbformat_minor": 2
}
